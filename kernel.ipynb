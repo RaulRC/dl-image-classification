{
 "cells": [
  {
   "cell_type": "code",
   "execution_count": 1,
   "metadata": {
    "_cell_guid": "b1076dfc-b9ad-4769-8c92-a6c4dae69d19",
    "_uuid": "8f2839f25d086af736a60e9eeb907d3b93b6e0e5"
   },
   "outputs": [],
   "source": [
    "# This Python 3 environment comes with many helpful analytics libraries installed\n",
    "# It is defined by the kaggle/python docker image: https://github.com/kaggle/docker-python\n",
    "# For example, here's several helpful packages to load in \n",
    "\n",
    "import numpy as np # linear algebra\n",
    "import pandas as pd # data processing, CSV file I/O (e.g. pd.read_csv)\n",
    "\n",
    "# Input data files are available in the \"../input/\" directory.\n",
    "# For example, running this (by clicking run or pressing Shift+Enter) will list the files in the input directory\n",
    "\n",
    "# Any results you write to the current directory are saved as output."
   ]
  },
  {
   "cell_type": "code",
   "execution_count": 2,
   "metadata": {
    "_cell_guid": "79c7e3d0-c299-4dcb-8224-4455121ee9b0",
    "_uuid": "d629ff2d2480ee46fbb7e2d37f6b5fab8052498a"
   },
   "outputs": [
    {
     "name": "stderr",
     "output_type": "stream",
     "text": [
      "Using TensorFlow backend.\n"
     ]
    }
   ],
   "source": [
    "from keras.datasets import mnist"
   ]
  },
  {
   "cell_type": "code",
   "execution_count": 3,
   "metadata": {
    "_uuid": "4e5af837b66ef28f6b8f918b7c69d71ef4c0f964"
   },
   "outputs": [],
   "source": [
    "(train_images, train_labels), (test_images, test_labels) = mnist.load_data()"
   ]
  },
  {
   "cell_type": "code",
   "execution_count": 4,
   "metadata": {
    "_uuid": "bc9b5b1319fe3ba456a9eb479503b2fd20c11fb8"
   },
   "outputs": [
    {
     "data": {
      "text/plain": [
       "<Figure size 640x480 with 1 Axes>"
      ]
     },
     "metadata": {},
     "output_type": "display_data"
    },
    {
     "data": {
      "text/plain": [
       "<Figure size 640x480 with 1 Axes>"
      ]
     },
     "metadata": {},
     "output_type": "display_data"
    },
    {
     "data": {
      "text/plain": [
       "<Figure size 640x480 with 1 Axes>"
      ]
     },
     "metadata": {},
     "output_type": "display_data"
    },
    {
     "data": {
      "text/plain": [
       "<Figure size 640x480 with 1 Axes>"
      ]
     },
     "metadata": {},
     "output_type": "display_data"
    },
    {
     "data": {
      "text/plain": [
       "<Figure size 640x480 with 1 Axes>"
      ]
     },
     "metadata": {},
     "output_type": "display_data"
    }
   ],
   "source": [
    "import matplotlib.pyplot as plt\n",
    "for item in range(5):\n",
    "    digit = train_images[item]\n",
    "    plt.imshow(digit, cmap=plt.cm.binary)\n",
    "    plt.show()"
   ]
  },
  {
   "cell_type": "code",
   "execution_count": 5,
   "metadata": {
    "_uuid": "a059df0852885055437448470f347dd95f021039"
   },
   "outputs": [
    {
     "data": {
      "text/plain": [
       "(60000, 28, 28)"
      ]
     },
     "execution_count": 5,
     "metadata": {},
     "output_type": "execute_result"
    }
   ],
   "source": [
    "train_images.shape"
   ]
  },
  {
   "cell_type": "code",
   "execution_count": 6,
   "metadata": {
    "_uuid": "1eb9736a773f2f7b6e26321ee80b0cbcc8bbd2e0"
   },
   "outputs": [
    {
     "data": {
      "text/plain": [
       "array([5, 0, 4, ..., 5, 6, 8], dtype=uint8)"
      ]
     },
     "execution_count": 6,
     "metadata": {},
     "output_type": "execute_result"
    }
   ],
   "source": [
    "train_labels"
   ]
  },
  {
   "cell_type": "code",
   "execution_count": 7,
   "metadata": {
    "_uuid": "b7395f740d44fbcf4ba68f909f2717b3b9ed74fb"
   },
   "outputs": [
    {
     "data": {
      "text/plain": [
       "array([0, 1, 2, 3, 4, 5, 6, 7, 8, 9], dtype=uint8)"
      ]
     },
     "execution_count": 7,
     "metadata": {},
     "output_type": "execute_result"
    }
   ],
   "source": [
    "np.unique(train_labels)"
   ]
  },
  {
   "cell_type": "code",
   "execution_count": 8,
   "metadata": {
    "_uuid": "8a4b67e91be3aa5713f57178ca005a38336a8e57"
   },
   "outputs": [],
   "source": [
    "from keras import models\n",
    "from keras import layers\n",
    "network = models.Sequential()\n",
    "network.add(layers.Dense(784, activation='relu'))\n",
    "network.add(layers.Dense(16, activation='relu'))\n",
    "network.add(layers.Dense(16, activation='relu'))\n",
    "network.add(layers.Dense(10, activation='softmax'))"
   ]
  },
  {
   "cell_type": "code",
   "execution_count": 9,
   "metadata": {
    "_uuid": "199af69cb3dfeb1c12edabae1823a7f27f1a481e"
   },
   "outputs": [],
   "source": [
    "network.compile(optimizer='rmsprop',\n",
    "                loss='categorical_crossentropy',\n",
    "                metrics=['accuracy'])"
   ]
  },
  {
   "cell_type": "code",
   "execution_count": 10,
   "metadata": {
    "_uuid": "ab119fcbc5313a1516e58c7e47d8eede11c42361"
   },
   "outputs": [],
   "source": [
    "train_images = train_images.reshape((60000, 28 * 28))"
   ]
  },
  {
   "cell_type": "code",
   "execution_count": 11,
   "metadata": {
    "_uuid": "75ffbc4c1ebcd8e6f77ecf77373d93d34e5dddbc"
   },
   "outputs": [],
   "source": [
    "train_images = train_images.astype('float32')/ 255"
   ]
  },
  {
   "cell_type": "code",
   "execution_count": 12,
   "metadata": {
    "_uuid": "6b83b786cb592fcd1e2e1756668bf88dc360e5a4"
   },
   "outputs": [],
   "source": [
    "test_images = test_images.reshape(10000, 28 * 28)"
   ]
  },
  {
   "cell_type": "code",
   "execution_count": 13,
   "metadata": {
    "_uuid": "36dd4b20cbfab14495bc04cb0f10694d3b920fc2"
   },
   "outputs": [],
   "source": [
    "test_images = test_images.astype('float32')/255"
   ]
  },
  {
   "cell_type": "code",
   "execution_count": 14,
   "metadata": {
    "_uuid": "2280036b3ffdd87e24c49eb635ee404b24a18f00"
   },
   "outputs": [],
   "source": [
    "from keras.utils import to_categorical\n",
    "train_labels = to_categorical(train_labels)\n",
    "test_labels = to_categorical(test_labels)"
   ]
  },
  {
   "cell_type": "code",
   "execution_count": 15,
   "metadata": {
    "_uuid": "d4c1c4386b40c9eeb26eb8a8b53b4bf613484a45"
   },
   "outputs": [
    {
     "name": "stdout",
     "output_type": "stream",
     "text": [
      "Epoch 1/10\n",
      "60000/60000 [==============================] - 6s 97us/step - loss: 0.3269 - acc: 0.9031\n",
      "Epoch 2/10\n",
      "60000/60000 [==============================] - 6s 95us/step - loss: 0.1113 - acc: 0.9672\n",
      "Epoch 3/10\n",
      "60000/60000 [==============================] - 5s 90us/step - loss: 0.0714 - acc: 0.9786\n",
      "Epoch 4/10\n",
      "60000/60000 [==============================] - 6s 95us/step - loss: 0.0529 - acc: 0.9844\n",
      "Epoch 5/10\n",
      "60000/60000 [==============================] - 5s 91us/step - loss: 0.0395 - acc: 0.9878\n",
      "Epoch 6/10\n",
      "60000/60000 [==============================] - 6s 95us/step - loss: 0.0304 - acc: 0.9904\n",
      "Epoch 7/10\n",
      "60000/60000 [==============================] - 6s 95us/step - loss: 0.0242 - acc: 0.9925\n",
      "Epoch 8/10\n",
      "60000/60000 [==============================] - 6s 94us/step - loss: 0.0190 - acc: 0.9938\n",
      "Epoch 9/10\n",
      "60000/60000 [==============================] - 5s 90us/step - loss: 0.0151 - acc: 0.9952\n",
      "Epoch 10/10\n",
      "60000/60000 [==============================] - 6s 92us/step - loss: 0.0121 - acc: 0.9963\n"
     ]
    },
    {
     "data": {
      "text/plain": [
       "<keras.callbacks.History at 0x7f779e314898>"
      ]
     },
     "execution_count": 15,
     "metadata": {},
     "output_type": "execute_result"
    }
   ],
   "source": [
    "network.fit(train_images, train_labels, epochs=10, batch_size=128)"
   ]
  },
  {
   "cell_type": "code",
   "execution_count": 16,
   "metadata": {
    "_uuid": "18abb1147c38df931b9151a852d19d056a9683dd"
   },
   "outputs": [
    {
     "name": "stdout",
     "output_type": "stream",
     "text": [
      "10000/10000 [==============================] - 1s 57us/step\n",
      "Test accuracy: 0.975\n"
     ]
    }
   ],
   "source": [
    "test_loss, test_acc = network.evaluate(test_images, test_labels)\n",
    "print('Test accuracy: ' + str(test_acc))"
   ]
  },
  {
   "cell_type": "code",
   "execution_count": 17,
   "metadata": {},
   "outputs": [
    {
     "data": {
      "text/html": [
       "\n",
       "<style type=\"text/css\">\n",
       "  canvas { border: 1px solid black; }\n",
       "</style>\n",
       "\n",
       "<div id=\"board\">\n",
       "\n",
       "  <canvas id=\"myCanvas\" width=\"100px\" height=\"100px\">\n",
       "    Sorry, your browser doesn't support canvas technology.\n",
       "  </canvas>\n",
       "\n",
       "  <p>\n",
       "\n",
       "    <button id=\"classify\" onclick=\"classify()\">\n",
       "      Classify\n",
       "    </button>\n",
       "\n",
       "    <button id=\"clear\" onclick=\"myClear()\">\n",
       "      Clear\n",
       "    </button>\n",
       "    Result:\n",
       "    <input type=\"text\" id=\"result_output\" size=\"10\" value=\"\">\n",
       "\n",
       "  </p>\n",
       "\n",
       "</div>\n",
       "\n",
       "<script type = \"text/JavaScript\" src = \"https://ajax.googleapis.com/ajax/libs/jquery/1.4.2/jquery.min.js?ver=1.4.2\" > </script>\n",
       "\n",
       "<script type = \"text/javascript\" >\n",
       "\n",
       "    function init() {\n",
       "        var myCanvas = document.getElementById(\"myCanvas\");\n",
       "        var curColor = $('#selectColor option:selected').val();\n",
       "        if (myCanvas) {\n",
       "            var isDown = false;\n",
       "            var ctx = myCanvas.getContext(\"2d\");\n",
       "            var canvasX, canvasY;\n",
       "            ctx.lineWidth = 8;\n",
       "            $(myCanvas).mousedown(function(e) {\n",
       "                isDown = true;\n",
       "                ctx.beginPath();\n",
       "                var parentOffset = $(this).parent().offset();\n",
       "                canvasX = e.pageX - parentOffset.left;\n",
       "                canvasY = e.pageY - parentOffset.top;\n",
       "                ctx.moveTo(canvasX, canvasY);\n",
       "            }).mousemove(function(e) {\n",
       "                if (isDown != false) {\n",
       "                    var parentOffset = $(this).parent().offset();\n",
       "                    canvasX = e.pageX - parentOffset.left;\n",
       "                    canvasY = e.pageY - parentOffset.top;\n",
       "                    ctx.lineTo(canvasX, canvasY);\n",
       "                    ctx.strokeStyle = curColor;\n",
       "                    ctx.stroke();\n",
       "                }\n",
       "            }).mouseup(function(e) {\n",
       "                isDown = false;\n",
       "                ctx.closePath();\n",
       "            });\n",
       "        }\n",
       "        $('#selectColor').change(function() {\n",
       "            curColor = $('#selectColor option:selected').val();\n",
       "        });\n",
       "    }\n",
       "init();\n",
       "\n",
       "function handle_output(out) {\n",
       "    for (var name in out.content.traceback) {\n",
       "      console.log(out.content.traceback);\n",
       "    }\n",
       "    console.log('this is out' + out.content.data[\"text/plain\"])\n",
       "    document.getElementById(\"result_output\").value = out.content.data[\"text/plain\"];\n",
       "}\n",
       "\n",
       "function classify() {\n",
       "    var kernel = IPython.notebook.kernel;\n",
       "    var myCanvas = document.getElementById(\"myCanvas\");\n",
       "    console.log(myCanvas)\n",
       "    data = myCanvas.toDataURL('image/png');\n",
       "    console.log(\"THE DATA >>> \")\n",
       "    console.log(data)\n",
       "    document.getElementById(\"result_output\").value = \"\";\n",
       "    console.log(\"classify('\" + data + \"')\", {\n",
       "        'iopub': {\n",
       "            'output': handle_output\n",
       "        }\n",
       "    }, {\n",
       "        silent: false\n",
       "    })\n",
       "    kernel.execute(\"classify('\" + data + \"')\", {\n",
       "        'iopub': {\n",
       "            'output': handle_output\n",
       "        }\n",
       "    }, {\n",
       "        silent: false\n",
       "    });\n",
       "}\n",
       "\n",
       "function myClear() {\n",
       "    var myCanvas = document.getElementById(\"myCanvas\");\n",
       "    myCanvas.getContext(\"2d\").clearRect(0, 0, myCanvas.width, myCanvas.height);\n",
       "}\n",
       "\n",
       "\n",
       "</script>\n"
      ],
      "text/plain": [
       "<IPython.core.display.HTML object>"
      ]
     },
     "execution_count": 17,
     "metadata": {},
     "output_type": "execute_result"
    }
   ],
   "source": [
    "# Create an HTML canvas to evaluate the model\n",
    "from IPython.display import HTML\n",
    "import cv2\n",
    "import numpy as np\n",
    "import base64\n",
    "\n",
    "def classify(img):\n",
    "    img = base64.b64decode(img[len('data:image/png;base64,'):])\n",
    "    img = cv2.imdecode(np.fromstring(img, np.uint8),-1)\n",
    "    img = cv2.resize(img[:,:,3], (28,28))\n",
    "    img = img.reshape((1,784)).astype(np.float32)/255\n",
    "    return network.predict_classes(img)[0]\n",
    "\n",
    "HTML(filename = \"mnist.html\")"
   ]
  },
  {
   "cell_type": "code",
   "execution_count": 18,
   "metadata": {},
   "outputs": [
    {
     "data": {
      "text/plain": [
       "array([[1.01321398e-19, 9.72057700e-01, 2.79421676e-02, 2.39411735e-13,\n",
       "        1.42360679e-24, 1.66869488e-16, 3.07397191e-10, 1.07352044e-07,\n",
       "        1.05827825e-12, 0.00000000e+00]], dtype=float32)"
      ]
     },
     "execution_count": 18,
     "metadata": {},
     "output_type": "execute_result"
    }
   ],
   "source": [
    "network.predict_proba(np.random.rand(1,784))"
   ]
  },
  {
   "cell_type": "code",
   "execution_count": 19,
   "metadata": {},
   "outputs": [
    {
     "data": {
      "text/plain": [
       "array([7, 2, 1, ..., 4, 5, 6])"
      ]
     },
     "execution_count": 19,
     "metadata": {},
     "output_type": "execute_result"
    }
   ],
   "source": [
    "network.predict_classes(test_images)"
   ]
  },
  {
   "cell_type": "code",
   "execution_count": null,
   "metadata": {},
   "outputs": [],
   "source": []
  }
 ],
 "metadata": {
  "kernelspec": {
   "display_name": "Python 3",
   "language": "python",
   "name": "python3"
  },
  "language_info": {
   "codemirror_mode": {
    "name": "ipython",
    "version": 3
   },
   "file_extension": ".py",
   "mimetype": "text/x-python",
   "name": "python",
   "nbconvert_exporter": "python",
   "pygments_lexer": "ipython3",
   "version": "3.5.2"
  }
 },
 "nbformat": 4,
 "nbformat_minor": 1
}
